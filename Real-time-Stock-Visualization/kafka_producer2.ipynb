{
 "cells": [
  {
   "cell_type": "code",
   "execution_count": 3,
   "id": "9bf13701-8d34-4fe9-9714-731b33693b3b",
   "metadata": {},
   "outputs": [],
   "source": [
    "import csv\n",
    "from time import sleep\n",
    "from kafka import KafkaProducer"
   ]
  },
  {
   "cell_type": "code",
   "execution_count": 5,
   "id": "5ce8b2b6-5a3c-4435-810d-ee74efc8d6d0",
   "metadata": {},
   "outputs": [],
   "source": [
    "producer = KafkaProducer(bootstrap_servers=['localhost:9092'],\n",
    "                         value_serializer=lambda x: x.encode('utf-8'))"
   ]
  },
  {
   "cell_type": "code",
   "execution_count": null,
   "id": "e9b9d1c1-893f-428b-97f1-e47b19a320e1",
   "metadata": {},
   "outputs": [],
   "source": [
    "with open(\"stock_market.csv\") as file_obj:\n",
    "    reader_obj = csv.reader(file_obj)\n",
    "    headers = next(reader_obj) # skip the header row\n",
    "    for row in reader_obj:\n",
    "        producer.send('venkat_stream', value=','.join(row))\n",
    "        sleep(2)"
   ]
  },
  {
   "cell_type": "code",
   "execution_count": null,
   "id": "62f37e9d-e2c1-4fef-bbf4-0ee9140bee98",
   "metadata": {},
   "outputs": [],
   "source": [
    "producer.flush() #clear data from kafka server"
   ]
  },
  {
   "cell_type": "code",
   "execution_count": null,
   "id": "cd73c78e-b7cc-4c56-ba4c-700b19572ac9",
   "metadata": {},
   "outputs": [],
   "source": []
  }
 ],
 "metadata": {
  "kernelspec": {
   "display_name": "Python 3",
   "language": "python",
   "name": "python3"
  },
  "language_info": {
   "codemirror_mode": {
    "name": "ipython",
    "version": 3
   },
   "file_extension": ".py",
   "mimetype": "text/x-python",
   "name": "python",
   "nbconvert_exporter": "python",
   "pygments_lexer": "ipython3",
   "version": "3.11.4"
  }
 },
 "nbformat": 4,
 "nbformat_minor": 5
}
